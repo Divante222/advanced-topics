{
 "cells": [
  {
   "cell_type": "code",
   "execution_count": 1,
   "id": "6de9f918",
   "metadata": {},
   "outputs": [],
   "source": [
    "from selenium import webdriver\n",
    "from selenium.webdriver.chrome.service import Service\n",
    "from selenium.webdriver.common.keys import Keys\n",
    "from selenium.webdriver.common.by import By\n",
    "from selenium.webdriver.common.action_chains import ActionChains\n",
    "from selenium.webdriver.support.ui import Select, WebDriverWait\n",
    "from selenium.webdriver.support import expected_conditions as EC\n",
    "\n",
    "from webdriver_manager.chrome import ChromeDriverManager\n",
    "\n",
    "import time as t\n",
    "import os"
   ]
  },
  {
   "cell_type": "code",
   "execution_count": 2,
   "id": "0e14b1e6",
   "metadata": {},
   "outputs": [],
   "source": [
    "user = os.getenv(\"githubUSER\")\n",
    "pswd = os.getenv(\"githubPSWD\")\n",
    "                 \n",
    "base_url = \"https://github.com/\""
   ]
  },
  {
   "cell_type": "code",
   "execution_count": 3,
   "id": "fb50751c",
   "metadata": {},
   "outputs": [
    {
     "name": "stdout",
     "output_type": "stream",
     "text": [
      "Divante222\n",
      "450182450182qQ\n"
     ]
    }
   ],
   "source": [
    "print(user)\n",
    "print(pswd)"
   ]
  },
  {
   "cell_type": "code",
   "execution_count": 73,
   "id": "08acfe6c",
   "metadata": {
    "scrolled": true
   },
   "outputs": [
    {
     "name": "stdout",
     "output_type": "stream",
     "text": [
      "Done!\n"
     ]
    }
   ],
   "source": [
    "driver = webdriver.Chrome(service= Service())\n",
    "driver.get(base_url+\"login\")\n",
    "driver.find_element(By.NAME, \"login\").send_keys(user)\n",
    "driver.find_element(By.NAME, \"password\").send_keys(pswd)\n",
    "driver.find_element(By.NAME, \"commit\").click()\n",
    "driver.maximize_window()\n",
    "driver.get(base_url+user+\"/database-exercises\")\n",
    "count = 0\n",
    "for i in range(len(driver.find_elements(By.XPATH, '''//a[@class = 'js-navigation-open Link--primary']'''))):\n",
    "    \n",
    "    if count > 0:\n",
    "        driver.find_elements(By.XPATH, '''//a[@class = 'js-navigation-open Link--primary']''')[i].click()\n",
    "        t.sleep(3)\n",
    "        driver.find_elements(By.XPATH, '''//button[@data-component= 'IconButton']''')[6].click()\n",
    "        t.sleep(3)\n",
    "        driver.find_elements(By.XPATH, '''//a[@data-testid=\"breadcrumbs-repo-link\"]''')[0].click()\n",
    "        t.sleep(3)\n",
    "\n",
    "        \n",
    "    count +=1\n",
    "    \n",
    "print('Done!')\n",
    "driver.close()\n",
    "driver.quit()"
   ]
  },
  {
   "cell_type": "code",
   "execution_count": 166,
   "id": "59856908",
   "metadata": {
    "scrolled": true
   },
   "outputs": [
    {
     "ename": "StaleElementReferenceException",
     "evalue": "Message: stale element reference: stale element not found\n  (Session info: chrome=114.0.5735.198); For documentation on this error, please visit: https://www.selenium.dev/documentation/webdriver/troubleshooting/errors#stale-element-reference-exception\nStacktrace:\n0   chromedriver                        0x00000001045abf48 chromedriver + 4226888\n1   chromedriver                        0x00000001045a44f4 chromedriver + 4195572\n2   chromedriver                        0x00000001041e8d68 chromedriver + 281960\n3   chromedriver                        0x00000001041ed6b0 chromedriver + 300720\n4   chromedriver                        0x00000001041eefe4 chromedriver + 307172\n5   chromedriver                        0x00000001041ef0d4 chromedriver + 307412\n6   chromedriver                        0x000000010422a5d0 chromedriver + 550352\n7   chromedriver                        0x0000000104228638 chromedriver + 542264\n8   chromedriver                        0x0000000104226548 chromedriver + 533832\n9   chromedriver                        0x0000000104225918 chromedriver + 530712\n10  chromedriver                        0x0000000104219eec chromedriver + 483052\n11  chromedriver                        0x0000000104219734 chromedriver + 481076\n12  chromedriver                        0x000000010425ac58 chromedriver + 748632\n13  chromedriver                        0x0000000104217f1c chromedriver + 474908\n14  chromedriver                        0x0000000104218ef4 chromedriver + 478964\n15  chromedriver                        0x000000010456d59c chromedriver + 3970460\n16  chromedriver                        0x00000001045716f0 chromedriver + 3987184\n17  chromedriver                        0x00000001045775b4 chromedriver + 4011444\n18  chromedriver                        0x00000001045722fc chromedriver + 3990268\n19  chromedriver                        0x000000010454a1c0 chromedriver + 3826112\n20  chromedriver                        0x000000010458e088 chromedriver + 4104328\n21  chromedriver                        0x000000010458e1e0 chromedriver + 4104672\n22  chromedriver                        0x000000010459df28 chromedriver + 4169512\n23  libsystem_pthread.dylib             0x000000018a08a06c _pthread_start + 148\n24  libsystem_pthread.dylib             0x000000018a084e2c thread_start + 8\n",
     "output_type": "error",
     "traceback": [
      "\u001b[0;31m---------------------------------------------------------------------------\u001b[0m",
      "\u001b[0;31mStaleElementReferenceException\u001b[0m            Traceback (most recent call last)",
      "Cell \u001b[0;32mIn[166], line 14\u001b[0m\n\u001b[1;32m     12\u001b[0m \u001b[38;5;28;01mfor\u001b[39;00m i \u001b[38;5;129;01min\u001b[39;00m \u001b[38;5;28mrange\u001b[39m(\u001b[38;5;28mlen\u001b[39m(driver\u001b[38;5;241m.\u001b[39mfind_elements(By\u001b[38;5;241m.\u001b[39mXPATH, \u001b[38;5;124m'''\u001b[39m\u001b[38;5;124m//a[@itemprop=\u001b[39m\u001b[38;5;124m\"\u001b[39m\u001b[38;5;124mname codeRepository\u001b[39m\u001b[38;5;124m\"\u001b[39m\u001b[38;5;124m]\u001b[39m\u001b[38;5;124m'''\u001b[39m))):\n\u001b[1;32m     13\u001b[0m     t\u001b[38;5;241m.\u001b[39msleep(\u001b[38;5;241m3\u001b[39m)\n\u001b[0;32m---> 14\u001b[0m     \u001b[43mdriver\u001b[49m\u001b[38;5;241;43m.\u001b[39;49m\u001b[43mfind_elements\u001b[49m\u001b[43m(\u001b[49m\u001b[43mBy\u001b[49m\u001b[38;5;241;43m.\u001b[39;49m\u001b[43mXPATH\u001b[49m\u001b[43m,\u001b[49m\u001b[43m \u001b[49m\u001b[38;5;124;43m'''\u001b[39;49m\u001b[38;5;124;43m//a[@itemprop=\u001b[39;49m\u001b[38;5;124;43m\"\u001b[39;49m\u001b[38;5;124;43mname codeRepository\u001b[39;49m\u001b[38;5;124;43m\"\u001b[39;49m\u001b[38;5;124;43m]\u001b[39;49m\u001b[38;5;124;43m'''\u001b[39;49m\u001b[43m)\u001b[49m\u001b[43m[\u001b[49m\u001b[43mi\u001b[49m\u001b[43m]\u001b[49m\u001b[38;5;241;43m.\u001b[39;49m\u001b[43mclick\u001b[49m\u001b[43m(\u001b[49m\u001b[43m)\u001b[49m\n\u001b[1;32m     15\u001b[0m     t\u001b[38;5;241m.\u001b[39msleep(\u001b[38;5;241m3\u001b[39m)\n\u001b[1;32m     16\u001b[0m     \u001b[38;5;28;01mfor\u001b[39;00m j \u001b[38;5;129;01min\u001b[39;00m \u001b[38;5;28mrange\u001b[39m(\u001b[38;5;28mlen\u001b[39m(driver\u001b[38;5;241m.\u001b[39mfind_elements(By\u001b[38;5;241m.\u001b[39mXPATH, \u001b[38;5;124m'''\u001b[39m\u001b[38;5;124m//a[@class=\u001b[39m\u001b[38;5;124m\"\u001b[39m\u001b[38;5;124mjs-navigation-open Link--primary\u001b[39m\u001b[38;5;124m\"\u001b[39m\u001b[38;5;124m]\u001b[39m\u001b[38;5;124m'''\u001b[39m))):\n",
      "File \u001b[0;32m/opt/homebrew/anaconda3/lib/python3.9/site-packages/selenium/webdriver/remote/webelement.py:94\u001b[0m, in \u001b[0;36mWebElement.click\u001b[0;34m(self)\u001b[0m\n\u001b[1;32m     92\u001b[0m \u001b[38;5;28;01mdef\u001b[39;00m \u001b[38;5;21mclick\u001b[39m(\u001b[38;5;28mself\u001b[39m) \u001b[38;5;241m-\u001b[39m\u001b[38;5;241m>\u001b[39m \u001b[38;5;28;01mNone\u001b[39;00m:\n\u001b[1;32m     93\u001b[0m \u001b[38;5;250m    \u001b[39m\u001b[38;5;124;03m\"\"\"Clicks the element.\"\"\"\u001b[39;00m\n\u001b[0;32m---> 94\u001b[0m     \u001b[38;5;28;43mself\u001b[39;49m\u001b[38;5;241;43m.\u001b[39;49m\u001b[43m_execute\u001b[49m\u001b[43m(\u001b[49m\u001b[43mCommand\u001b[49m\u001b[38;5;241;43m.\u001b[39;49m\u001b[43mCLICK_ELEMENT\u001b[49m\u001b[43m)\u001b[49m\n",
      "File \u001b[0;32m/opt/homebrew/anaconda3/lib/python3.9/site-packages/selenium/webdriver/remote/webelement.py:395\u001b[0m, in \u001b[0;36mWebElement._execute\u001b[0;34m(self, command, params)\u001b[0m\n\u001b[1;32m    393\u001b[0m     params \u001b[38;5;241m=\u001b[39m {}\n\u001b[1;32m    394\u001b[0m params[\u001b[38;5;124m\"\u001b[39m\u001b[38;5;124mid\u001b[39m\u001b[38;5;124m\"\u001b[39m] \u001b[38;5;241m=\u001b[39m \u001b[38;5;28mself\u001b[39m\u001b[38;5;241m.\u001b[39m_id\n\u001b[0;32m--> 395\u001b[0m \u001b[38;5;28;01mreturn\u001b[39;00m \u001b[38;5;28;43mself\u001b[39;49m\u001b[38;5;241;43m.\u001b[39;49m\u001b[43m_parent\u001b[49m\u001b[38;5;241;43m.\u001b[39;49m\u001b[43mexecute\u001b[49m\u001b[43m(\u001b[49m\u001b[43mcommand\u001b[49m\u001b[43m,\u001b[49m\u001b[43m \u001b[49m\u001b[43mparams\u001b[49m\u001b[43m)\u001b[49m\n",
      "File \u001b[0;32m/opt/homebrew/anaconda3/lib/python3.9/site-packages/selenium/webdriver/remote/webdriver.py:346\u001b[0m, in \u001b[0;36mWebDriver.execute\u001b[0;34m(self, driver_command, params)\u001b[0m\n\u001b[1;32m    344\u001b[0m response \u001b[38;5;241m=\u001b[39m \u001b[38;5;28mself\u001b[39m\u001b[38;5;241m.\u001b[39mcommand_executor\u001b[38;5;241m.\u001b[39mexecute(driver_command, params)\n\u001b[1;32m    345\u001b[0m \u001b[38;5;28;01mif\u001b[39;00m response:\n\u001b[0;32m--> 346\u001b[0m     \u001b[38;5;28;43mself\u001b[39;49m\u001b[38;5;241;43m.\u001b[39;49m\u001b[43merror_handler\u001b[49m\u001b[38;5;241;43m.\u001b[39;49m\u001b[43mcheck_response\u001b[49m\u001b[43m(\u001b[49m\u001b[43mresponse\u001b[49m\u001b[43m)\u001b[49m\n\u001b[1;32m    347\u001b[0m     response[\u001b[38;5;124m\"\u001b[39m\u001b[38;5;124mvalue\u001b[39m\u001b[38;5;124m\"\u001b[39m] \u001b[38;5;241m=\u001b[39m \u001b[38;5;28mself\u001b[39m\u001b[38;5;241m.\u001b[39m_unwrap_value(response\u001b[38;5;241m.\u001b[39mget(\u001b[38;5;124m\"\u001b[39m\u001b[38;5;124mvalue\u001b[39m\u001b[38;5;124m\"\u001b[39m, \u001b[38;5;28;01mNone\u001b[39;00m))\n\u001b[1;32m    348\u001b[0m     \u001b[38;5;28;01mreturn\u001b[39;00m response\n",
      "File \u001b[0;32m/opt/homebrew/anaconda3/lib/python3.9/site-packages/selenium/webdriver/remote/errorhandler.py:245\u001b[0m, in \u001b[0;36mErrorHandler.check_response\u001b[0;34m(self, response)\u001b[0m\n\u001b[1;32m    243\u001b[0m         alert_text \u001b[38;5;241m=\u001b[39m value[\u001b[38;5;124m\"\u001b[39m\u001b[38;5;124malert\u001b[39m\u001b[38;5;124m\"\u001b[39m]\u001b[38;5;241m.\u001b[39mget(\u001b[38;5;124m\"\u001b[39m\u001b[38;5;124mtext\u001b[39m\u001b[38;5;124m\"\u001b[39m)\n\u001b[1;32m    244\u001b[0m     \u001b[38;5;28;01mraise\u001b[39;00m exception_class(message, screen, stacktrace, alert_text)  \u001b[38;5;66;03m# type: ignore[call-arg]  # mypy is not smart enough here\u001b[39;00m\n\u001b[0;32m--> 245\u001b[0m \u001b[38;5;28;01mraise\u001b[39;00m exception_class(message, screen, stacktrace)\n",
      "\u001b[0;31mStaleElementReferenceException\u001b[0m: Message: stale element reference: stale element not found\n  (Session info: chrome=114.0.5735.198); For documentation on this error, please visit: https://www.selenium.dev/documentation/webdriver/troubleshooting/errors#stale-element-reference-exception\nStacktrace:\n0   chromedriver                        0x00000001045abf48 chromedriver + 4226888\n1   chromedriver                        0x00000001045a44f4 chromedriver + 4195572\n2   chromedriver                        0x00000001041e8d68 chromedriver + 281960\n3   chromedriver                        0x00000001041ed6b0 chromedriver + 300720\n4   chromedriver                        0x00000001041eefe4 chromedriver + 307172\n5   chromedriver                        0x00000001041ef0d4 chromedriver + 307412\n6   chromedriver                        0x000000010422a5d0 chromedriver + 550352\n7   chromedriver                        0x0000000104228638 chromedriver + 542264\n8   chromedriver                        0x0000000104226548 chromedriver + 533832\n9   chromedriver                        0x0000000104225918 chromedriver + 530712\n10  chromedriver                        0x0000000104219eec chromedriver + 483052\n11  chromedriver                        0x0000000104219734 chromedriver + 481076\n12  chromedriver                        0x000000010425ac58 chromedriver + 748632\n13  chromedriver                        0x0000000104217f1c chromedriver + 474908\n14  chromedriver                        0x0000000104218ef4 chromedriver + 478964\n15  chromedriver                        0x000000010456d59c chromedriver + 3970460\n16  chromedriver                        0x00000001045716f0 chromedriver + 3987184\n17  chromedriver                        0x00000001045775b4 chromedriver + 4011444\n18  chromedriver                        0x00000001045722fc chromedriver + 3990268\n19  chromedriver                        0x000000010454a1c0 chromedriver + 3826112\n20  chromedriver                        0x000000010458e088 chromedriver + 4104328\n21  chromedriver                        0x000000010458e1e0 chromedriver + 4104672\n22  chromedriver                        0x000000010459df28 chromedriver + 4169512\n23  libsystem_pthread.dylib             0x000000018a08a06c _pthread_start + 148\n24  libsystem_pthread.dylib             0x000000018a084e2c thread_start + 8\n"
     ]
    }
   ],
   "source": [
    "driver = webdriver.Chrome(service= Service())\n",
    "driver.get(base_url+\"login\")\n",
    "driver.find_element(By.NAME, \"login\").send_keys(user)\n",
    "driver.find_element(By.NAME, \"password\").send_keys(pswd)\n",
    "driver.find_element(By.NAME, \"commit\").click()\n",
    "driver.maximize_window()\n",
    "driver.find_element(By.XPATH, '''//button[@aria-label=\"Open user account menu\"]''').click()\n",
    "t.sleep(3)\n",
    "driver.find_elements(By.XPATH, '''//span[@class=\"ActionListItem-label\"]''')[20].click()\n",
    "t.sleep(3)\n",
    "# driver.find_elements(By.XPATH, '''//a[@itemprop=\"name codeRepository\"]''')[0].click()\n",
    "for i in range(len(driver.find_elements(By.XPATH, '''//a[@itemprop=\"name codeRepository\"]'''))):\n",
    "    t.sleep(3)\n",
    "    driver.find_elements(By.XPATH, '''//a[@itemprop=\"name codeRepository\"]''')[i].click()\n",
    "    t.sleep(3)\n",
    "    for j in range(len(driver.find_elements(By.XPATH, '''//a[@class=\"js-navigation-open Link--primary\"]'''))):\n",
    "        try:\n",
    "            \n",
    "            if 'ipynb' in driver.find_elements(By.XPATH, '''//a[@class=\"js-navigation-open Link--primary\"]''')[j].text:\n",
    "                driver.find_elements(By.XPATH, '''//a[@class=\"js-navigation-open Link--primary\"]''')[j].click()\n",
    "                t.sleep(3)\n",
    "                driver.find_elements(By.XPATH, '''//span[@class=\"Tooltip__TooltipBase-sc-uha8qm-0 fCnxTL tooltipped-n\"]''')[0].click()\n",
    "                t.sleep(3)\n",
    "                driver.find_elements(By.XPATH, '''//a[@class=\"Link__StyledLink-sc-14289xe-0 iJtJJh\" ]''')[0].click()\n",
    "                t.sleep(3)\n",
    "        except: \n",
    "            t.sleep(5)\n",
    "            if 'ipynb' in driver.find_elements(By.XPATH, '''//a[@class=\"js-navigation-open Link--primary\"]''')[j].text:\n",
    "                driver.find_elements(By.XPATH, '''//a[@class=\"js-navigation-open Link--primary\"]''')[j].click()\n",
    "                t.sleep(3)\n",
    "                driver.find_elements(By.XPATH, '''//span[@class=\"Tooltip__TooltipBase-sc-uha8qm-0 fCnxTL tooltipped-n\"]''')[0].click()\n",
    "                t.sleep(3)\n",
    "                driver.find_elements(By.XPATH, '''//a[@class=\"Link__StyledLink-sc-14289xe-0 iJtJJh\" ]''')[0].click()\n",
    "                t.sleep(3)\n",
    "    driver.find_element(By.XPATH, '''//button[@aria-label=\"Open user account menu\"]''').click()\n",
    "    t.sleep(3)\n",
    "    driver.find_elements(By.XPATH, '''//span[@class=\"ActionListItem-label\"]''')[19].click()\n",
    "    t.sleep(3)\n",
    "print('Done!')\n",
    "driver.close()\n",
    "driver.quit()"
   ]
  },
  {
   "cell_type": "code",
   "execution_count": 141,
   "id": "fd39106c",
   "metadata": {
    "scrolled": false
   },
   "outputs": [
    {
     "data": {
      "text/plain": [
       "[<selenium.webdriver.remote.webelement.WebElement (session=\"4b0084a7d17f8e74f0870fa7d6197f24\", element=\"A99D887EA9FE98782DB33944460B0BBE_element_260\")>,\n",
       " <selenium.webdriver.remote.webelement.WebElement (session=\"4b0084a7d17f8e74f0870fa7d6197f24\", element=\"A99D887EA9FE98782DB33944460B0BBE_element_261\")>,\n",
       " <selenium.webdriver.remote.webelement.WebElement (session=\"4b0084a7d17f8e74f0870fa7d6197f24\", element=\"A99D887EA9FE98782DB33944460B0BBE_element_218\")>,\n",
       " <selenium.webdriver.remote.webelement.WebElement (session=\"4b0084a7d17f8e74f0870fa7d6197f24\", element=\"A99D887EA9FE98782DB33944460B0BBE_element_262\")>,\n",
       " <selenium.webdriver.remote.webelement.WebElement (session=\"4b0084a7d17f8e74f0870fa7d6197f24\", element=\"A99D887EA9FE98782DB33944460B0BBE_element_263\")>,\n",
       " <selenium.webdriver.remote.webelement.WebElement (session=\"4b0084a7d17f8e74f0870fa7d6197f24\", element=\"A99D887EA9FE98782DB33944460B0BBE_element_264\")>,\n",
       " <selenium.webdriver.remote.webelement.WebElement (session=\"4b0084a7d17f8e74f0870fa7d6197f24\", element=\"A99D887EA9FE98782DB33944460B0BBE_element_265\")>,\n",
       " <selenium.webdriver.remote.webelement.WebElement (session=\"4b0084a7d17f8e74f0870fa7d6197f24\", element=\"A99D887EA9FE98782DB33944460B0BBE_element_266\")>,\n",
       " <selenium.webdriver.remote.webelement.WebElement (session=\"4b0084a7d17f8e74f0870fa7d6197f24\", element=\"A99D887EA9FE98782DB33944460B0BBE_element_267\")>,\n",
       " <selenium.webdriver.remote.webelement.WebElement (session=\"4b0084a7d17f8e74f0870fa7d6197f24\", element=\"A99D887EA9FE98782DB33944460B0BBE_element_268\")>,\n",
       " <selenium.webdriver.remote.webelement.WebElement (session=\"4b0084a7d17f8e74f0870fa7d6197f24\", element=\"A99D887EA9FE98782DB33944460B0BBE_element_269\")>,\n",
       " <selenium.webdriver.remote.webelement.WebElement (session=\"4b0084a7d17f8e74f0870fa7d6197f24\", element=\"A99D887EA9FE98782DB33944460B0BBE_element_270\")>,\n",
       " <selenium.webdriver.remote.webelement.WebElement (session=\"4b0084a7d17f8e74f0870fa7d6197f24\", element=\"A99D887EA9FE98782DB33944460B0BBE_element_271\")>,\n",
       " <selenium.webdriver.remote.webelement.WebElement (session=\"4b0084a7d17f8e74f0870fa7d6197f24\", element=\"A99D887EA9FE98782DB33944460B0BBE_element_272\")>,\n",
       " <selenium.webdriver.remote.webelement.WebElement (session=\"4b0084a7d17f8e74f0870fa7d6197f24\", element=\"A99D887EA9FE98782DB33944460B0BBE_element_273\")>,\n",
       " <selenium.webdriver.remote.webelement.WebElement (session=\"4b0084a7d17f8e74f0870fa7d6197f24\", element=\"A99D887EA9FE98782DB33944460B0BBE_element_274\")>,\n",
       " <selenium.webdriver.remote.webelement.WebElement (session=\"4b0084a7d17f8e74f0870fa7d6197f24\", element=\"A99D887EA9FE98782DB33944460B0BBE_element_275\")>,\n",
       " <selenium.webdriver.remote.webelement.WebElement (session=\"4b0084a7d17f8e74f0870fa7d6197f24\", element=\"A99D887EA9FE98782DB33944460B0BBE_element_276\")>,\n",
       " <selenium.webdriver.remote.webelement.WebElement (session=\"4b0084a7d17f8e74f0870fa7d6197f24\", element=\"A99D887EA9FE98782DB33944460B0BBE_element_277\")>,\n",
       " <selenium.webdriver.remote.webelement.WebElement (session=\"4b0084a7d17f8e74f0870fa7d6197f24\", element=\"A99D887EA9FE98782DB33944460B0BBE_element_278\")>,\n",
       " <selenium.webdriver.remote.webelement.WebElement (session=\"4b0084a7d17f8e74f0870fa7d6197f24\", element=\"A99D887EA9FE98782DB33944460B0BBE_element_279\")>,\n",
       " <selenium.webdriver.remote.webelement.WebElement (session=\"4b0084a7d17f8e74f0870fa7d6197f24\", element=\"A99D887EA9FE98782DB33944460B0BBE_element_280\")>,\n",
       " <selenium.webdriver.remote.webelement.WebElement (session=\"4b0084a7d17f8e74f0870fa7d6197f24\", element=\"A99D887EA9FE98782DB33944460B0BBE_element_281\")>,\n",
       " <selenium.webdriver.remote.webelement.WebElement (session=\"4b0084a7d17f8e74f0870fa7d6197f24\", element=\"A99D887EA9FE98782DB33944460B0BBE_element_282\")>,\n",
       " <selenium.webdriver.remote.webelement.WebElement (session=\"4b0084a7d17f8e74f0870fa7d6197f24\", element=\"A99D887EA9FE98782DB33944460B0BBE_element_283\")>,\n",
       " <selenium.webdriver.remote.webelement.WebElement (session=\"4b0084a7d17f8e74f0870fa7d6197f24\", element=\"A99D887EA9FE98782DB33944460B0BBE_element_284\")>,\n",
       " <selenium.webdriver.remote.webelement.WebElement (session=\"4b0084a7d17f8e74f0870fa7d6197f24\", element=\"A99D887EA9FE98782DB33944460B0BBE_element_285\")>,\n",
       " <selenium.webdriver.remote.webelement.WebElement (session=\"4b0084a7d17f8e74f0870fa7d6197f24\", element=\"A99D887EA9FE98782DB33944460B0BBE_element_286\")>,\n",
       " <selenium.webdriver.remote.webelement.WebElement (session=\"4b0084a7d17f8e74f0870fa7d6197f24\", element=\"A99D887EA9FE98782DB33944460B0BBE_element_287\")>,\n",
       " <selenium.webdriver.remote.webelement.WebElement (session=\"4b0084a7d17f8e74f0870fa7d6197f24\", element=\"A99D887EA9FE98782DB33944460B0BBE_element_288\")>]"
      ]
     },
     "execution_count": 141,
     "metadata": {},
     "output_type": "execute_result"
    }
   ],
   "source": [
    "driver.find_elements(By.XPATH, '''//a[@itemprop=\"name codeRepository\"]''')[0].click()"
   ]
  },
  {
   "cell_type": "code",
   "execution_count": 111,
   "id": "67260e9a",
   "metadata": {
    "scrolled": false
   },
   "outputs": [
    {
     "name": "stdout",
     "output_type": "stream",
     "text": [
      "0\n",
      "advanced-topics\n",
      "1\n",
      "spark-exercises\n",
      "2\n",
      "natural-language-processing-exercises\n",
      "3\n",
      "udemy_nlp\n",
      "4\n",
      "anomaly-detection-exercises\n",
      "5\n",
      "individual_project\n",
      "6\n",
      "time-series-exercises\n",
      "7\n",
      "solo_project\n",
      "8\n",
      "pygame_second_tutorial\n",
      "9\n",
      "clustering-exercises\n",
      "10\n",
      "learning_pygame_tutorial_1\n",
      "11\n",
      "project_two_zillow\n",
      "12\n",
      "first_tutorial_pygame\n",
      "13\n",
      "regression-exercises\n",
      "14\n",
      "project_1_telco_churn\n",
      "15\n",
      "classification_exercises\n",
      "16\n",
      "statistics-exercises\n",
      "17\n",
      "learning_web_scraping\n",
      "18\n",
      "tableau_stuff\n",
      "19\n",
      "numpy-pandas-visualization-exercises\n",
      "20\n",
      "database-exercises\n",
      "21\n",
      "python-exercises\n",
      "22\n",
      "codeup_json_bank_account\n",
      "23\n",
      "python_project_codeup\n",
      "24\n",
      "python_udemy_practice\n",
      "25\n",
      "git_practice\n",
      "26\n",
      "the-new-one\n",
      "27\n",
      "my_notes.md\n",
      "28\n",
      "Hello_World\n",
      "29\n",
      "Divante222\n"
     ]
    }
   ],
   "source": [
    "count = 0\n",
    "for i in driver.find_elements(By.XPATH, '''//a[@itemprop=\"name codeRepository\"]'''):\n",
    "    print(count)\n",
    "    print(i.text)\n",
    "    count +=1"
   ]
  },
  {
   "cell_type": "code",
   "execution_count": 163,
   "id": "cd44d423",
   "metadata": {},
   "outputs": [
    {
     "data": {
      "text/plain": [
       "'explore.ipynb'"
      ]
     },
     "execution_count": 163,
     "metadata": {},
     "output_type": "execute_result"
    }
   ],
   "source": [
    "driver.find_elements(By.XPATH, '''//a[@class=\"js-navigation-open Link--primary\"]''')[j].text"
   ]
  },
  {
   "cell_type": "code",
   "execution_count": null,
   "id": "a0726b6a",
   "metadata": {},
   "outputs": [],
   "source": [
    "driver.find_elements(By.XPATH, '''//a[@itemprop=\"name codeRepository\"]''')[0].click()"
   ]
  },
  {
   "cell_type": "code",
   "execution_count": 156,
   "id": "3653cefd",
   "metadata": {},
   "outputs": [],
   "source": [
    "driver.find_elements(By.XPATH, '''//a[@class=\"js-navigation-open Link--primary\"]''')[1].click()"
   ]
  },
  {
   "cell_type": "code",
   "execution_count": 154,
   "id": "2acb5536",
   "metadata": {},
   "outputs": [
    {
     "data": {
      "text/plain": [
       "<selenium.webdriver.remote.webelement.WebElement (session=\"d2d5cafabe1e00e46500c0e5cce410bb\", element=\"FD310B4DBBF50586564E39672854C170_element_270\")>"
      ]
     },
     "execution_count": 154,
     "metadata": {},
     "output_type": "execute_result"
    }
   ],
   "source": [
    "driver.find_elements(By.XPATH, '''//a[@class=\"js-navigation-open Link--primary\"]''')[1]"
   ]
  },
  {
   "cell_type": "code",
   "execution_count": 149,
   "id": "e20477b7",
   "metadata": {},
   "outputs": [
    {
     "data": {
      "text/plain": [
       "2"
      ]
     },
     "execution_count": 149,
     "metadata": {},
     "output_type": "execute_result"
    }
   ],
   "source": [
    "len(driver.find_elements(By.XPATH, '''//a[@class=\"js-navigation-open Link--primary\"]'''))"
   ]
  },
  {
   "cell_type": "code",
   "execution_count": 144,
   "id": "cfcc82cb",
   "metadata": {},
   "outputs": [
    {
     "data": {
      "text/plain": [
       "30"
      ]
     },
     "execution_count": 144,
     "metadata": {},
     "output_type": "execute_result"
    }
   ],
   "source": [
    "len(driver.find_elements(By.XPATH, '''//a[@itemprop=\"name codeRepository\"]'''))"
   ]
  },
  {
   "cell_type": "code",
   "execution_count": null,
   "id": "1e65ec7e",
   "metadata": {},
   "outputs": [],
   "source": [
    "//a[@class=\"Link__StyledLink-sc-14289xe-0 iJtJJh\" ]"
   ]
  },
  {
   "cell_type": "code",
   "execution_count": null,
   "id": "ac37caf9",
   "metadata": {},
   "outputs": [],
   "source": []
  },
  {
   "cell_type": "code",
   "execution_count": 131,
   "id": "32f05d9c",
   "metadata": {},
   "outputs": [],
   "source": [
    "driver.find_elements(By.XPATH, '''//a[@class=\"Link__StyledLink-sc-14289xe-0 iJtJJh\" ]''')[0].click()"
   ]
  },
  {
   "cell_type": "code",
   "execution_count": null,
   "id": "d55a9f8f",
   "metadata": {},
   "outputs": [],
   "source": [
    "//span[@class=\"Tooltip__TooltipBase-sc-uha8qm-0 fCnxTL tooltipped-n\"]"
   ]
  },
  {
   "cell_type": "code",
   "execution_count": 130,
   "id": "6efa5089",
   "metadata": {},
   "outputs": [],
   "source": [
    "driver.find_elements(By.XPATH, '''//span[@class=\"Tooltip__TooltipBase-sc-uha8qm-0 fCnxTL tooltipped-n\"]''')[0].click()"
   ]
  },
  {
   "cell_type": "code",
   "execution_count": null,
   "id": "7566718b",
   "metadata": {},
   "outputs": [],
   "source": [
    "//span[@class=\"ActionListItem-label\"]"
   ]
  },
  {
   "cell_type": "code",
   "execution_count": 126,
   "id": "2dc1ee2d",
   "metadata": {},
   "outputs": [
    {
     "data": {
      "text/plain": [
       "True"
      ]
     },
     "execution_count": 126,
     "metadata": {},
     "output_type": "execute_result"
    }
   ],
   "source": [
    "'ipynb' in driver.find_elements(By.XPATH, '''//a[@class=\"js-navigation-open Link--primary\"]''')[0].text"
   ]
  },
  {
   "cell_type": "code",
   "execution_count": null,
   "id": "74a4e792",
   "metadata": {},
   "outputs": [],
   "source": [
    "//a[@class=\"js-navigation-open Link--primary\"]"
   ]
  },
  {
   "cell_type": "code",
   "execution_count": 98,
   "id": "473decdd",
   "metadata": {},
   "outputs": [],
   "source": [
    "driver.find_element(By.XPATH, '''//button[@aria-label=\"Open user account menu\"]''').click()\n",
    "\n"
   ]
  },
  {
   "cell_type": "code",
   "execution_count": 122,
   "id": "9b3e7da1",
   "metadata": {},
   "outputs": [
    {
     "ename": "IndexError",
     "evalue": "list index out of range",
     "output_type": "error",
     "traceback": [
      "\u001b[0;31m---------------------------------------------------------------------------\u001b[0m",
      "\u001b[0;31mIndexError\u001b[0m                                Traceback (most recent call last)",
      "Cell \u001b[0;32mIn[122], line 1\u001b[0m\n\u001b[0;32m----> 1\u001b[0m \u001b[43mdriver\u001b[49m\u001b[38;5;241;43m.\u001b[39;49m\u001b[43mfind_elements\u001b[49m\u001b[43m(\u001b[49m\u001b[43mBy\u001b[49m\u001b[38;5;241;43m.\u001b[39;49m\u001b[43mXPATH\u001b[49m\u001b[43m,\u001b[49m\u001b[43m \u001b[49m\u001b[38;5;124;43m'''\u001b[39;49m\u001b[38;5;124;43m//a[@itemprop=\u001b[39;49m\u001b[38;5;124;43m\"\u001b[39;49m\u001b[38;5;124;43mname codeRepository\u001b[39;49m\u001b[38;5;124;43m\"\u001b[39;49m\u001b[38;5;124;43m]\u001b[39;49m\u001b[38;5;124;43m'''\u001b[39;49m\u001b[43m)\u001b[49m\u001b[43m[\u001b[49m\u001b[38;5;241;43m0\u001b[39;49m\u001b[43m]\u001b[49m\n",
      "\u001b[0;31mIndexError\u001b[0m: list index out of range"
     ]
    }
   ],
   "source": [
    "driver.find_elements(By.XPATH, '''//a[@itemprop=\"name codeRepository\"]''')[0].click()"
   ]
  }
 ],
 "metadata": {
  "kernelspec": {
   "display_name": "Python 3 (ipykernel)",
   "language": "python",
   "name": "python3"
  },
  "language_info": {
   "codemirror_mode": {
    "name": "ipython",
    "version": 3
   },
   "file_extension": ".py",
   "mimetype": "text/x-python",
   "name": "python",
   "nbconvert_exporter": "python",
   "pygments_lexer": "ipython3",
   "version": "3.9.16"
  }
 },
 "nbformat": 4,
 "nbformat_minor": 5
}
