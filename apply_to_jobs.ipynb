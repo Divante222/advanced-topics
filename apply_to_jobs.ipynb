{
 "cells": [
  {
   "cell_type": "code",
   "execution_count": 52,
   "id": "355184f4",
   "metadata": {},
   "outputs": [],
   "source": [
    "from selenium import webdriver\n",
    "from selenium.webdriver.chrome.service import Service\n",
    "from selenium.webdriver.common.keys import Keys\n",
    "from selenium.webdriver.common.by import By\n",
    "from selenium.webdriver.common.action_chains import ActionChains\n",
    "from selenium.webdriver.support.ui import Select, WebDriverWait\n",
    "from selenium.webdriver.support import expected_conditions as EC\n",
    "\n",
    "from webdriver_manager.chrome import ChromeDriverManager\n",
    "\n",
    "import time \n",
    "import os"
   ]
  },
  {
   "cell_type": "code",
   "execution_count": 53,
   "id": "a74337ca",
   "metadata": {},
   "outputs": [],
   "source": [
    "base_url = \"https://www.dice.com/dashboard/login\"\n",
    "user = 'divante111@gmail.com'\n",
    "password = '!@QWaszx34erdfcv'"
   ]
  },
  {
   "cell_type": "code",
   "execution_count": 72,
   "id": "8ff321ee",
   "metadata": {
    "scrolled": true
   },
   "outputs": [],
   "source": [
    "driver = webdriver.Chrome(service= Service())\n",
    "driver.get(base_url)\n",
    "driver.maximize_window()\n",
    "\n",
    "driver.find_element(By.NAME, \"email\").send_keys(user)\n",
    "driver.find_element(By.NAME, \"password\").send_keys(password)\n",
    "time.sleep(3)\n",
    "driver.find_elements(By.XPATH, '''//button[@class = \"btn btn-primary btn-lg btn-block\"]''')[0].click()\n",
    "driver.find_elements(By.XPATH, '''//button[@class = \"btn btn-block btn-primary btn-efc-primary px-4\"]''')[0].click()\n",
    "time.sleep(3)\n",
    "driver.find_elements(By.XPATH, '''//input[@class = \"form-control ng-tns-c52-0 ng-star-inserted\"]''')[0].send_keys('data scientist')\n",
    "time.sleep(2)\n",
    "driver.find_elements(By.XPATH, '''//button[@class = \"btn btn-block btn-primary btn-efc-primary px-4\"]''')[0].click()\n",
    "\n",
    "# for link in driver.find_elements(By.XPATH, '''//a[@class = \"card-title-link bold\"]'''):\n"
   ]
  },
  {
   "cell_type": "code",
   "execution_count": 76,
   "id": "8f57dab2",
   "metadata": {
    "scrolled": true
   },
   "outputs": [
    {
     "data": {
      "text/plain": [
       "'Lead Data Scientist'"
      ]
     },
     "execution_count": 76,
     "metadata": {},
     "output_type": "execute_result"
    }
   ],
   "source": [
    "driver.find_elements(By.XPATH, '''//a[@class = \"card-title-link bold\"]''')[1].text"
   ]
  },
  {
   "cell_type": "code",
   "execution_count": 79,
   "id": "88a58fa6",
   "metadata": {},
   "outputs": [
    {
     "data": {
      "text/plain": [
       "'Data Scientist / Machine Learning Engineer'"
      ]
     },
     "execution_count": 79,
     "metadata": {},
     "output_type": "execute_result"
    }
   ],
   "source": [
    "driver.find_elements(By.XPATH, '''//a[@class = \"card-title-link bold\"]''')[-1].text\n"
   ]
  },
  {
   "cell_type": "code",
   "execution_count": 89,
   "id": "b226d389",
   "metadata": {},
   "outputs": [],
   "source": [
    "for link in range(len(driver.find_elements(By.XPATH, '''//a[@class = \"card-title-link bold\"]'''))):\n",
    "    driver.find_elements(By.XPATH, '''//a[@class = \"card-title-link bold\"]''')[link].click()\n",
    "    time.sleep(3)\n",
    "    break\n",
    "    "
   ]
  },
  {
   "cell_type": "code",
   "execution_count": 100,
   "id": "544ca972",
   "metadata": {},
   "outputs": [
    {
     "data": {
      "text/plain": [
       "''"
      ]
     },
     "execution_count": 100,
     "metadata": {},
     "output_type": "execute_result"
    }
   ],
   "source": [
    "driver.find_elements(By.XPATH, '//button[contains(@class, \"btn\") and contains(@class, \"btn-primary\")]')[0]"
   ]
  },
  {
   "cell_type": "code",
   "execution_count": null,
   "id": "e9f4fa45",
   "metadata": {},
   "outputs": [],
   "source": [
    "btn btn-primary"
   ]
  }
 ],
 "metadata": {
  "kernelspec": {
   "display_name": "Python 3 (ipykernel)",
   "language": "python",
   "name": "python3"
  },
  "language_info": {
   "codemirror_mode": {
    "name": "ipython",
    "version": 3
   },
   "file_extension": ".py",
   "mimetype": "text/x-python",
   "name": "python",
   "nbconvert_exporter": "python",
   "pygments_lexer": "ipython3",
   "version": "3.9.16"
  }
 },
 "nbformat": 4,
 "nbformat_minor": 5
}
